{
 "cells": [
  {
   "cell_type": "code",
   "execution_count": 1,
   "metadata": {},
   "outputs": [],
   "source": [
    "import numpy as np\n",
    "import pandas as pd\n",
    "import tensorflow as tf\n",
    "import os\n",
    "import time \n",
    "import cv2\n",
    "import matplotlib.pyplot as plt\n",
    "from tqdm import tqdm\n",
    "import random\n",
    "from PIL import Image"
   ]
  },
  {
   "cell_type": "code",
   "execution_count": null,
   "metadata": {
    "scrolled": true
   },
   "outputs": [
    {
     "name": "stderr",
     "output_type": "stream",
     "text": [
      " 23%|███████████████████                                                               | 10/43 [01:24<03:55,  7.13s/it]"
     ]
    }
   ],
   "source": [
    "training_data = []\n",
    "\n",
    "height = 30\n",
    "width = 30\n",
    "channels = 3\n",
    "classes = 43\n",
    "\n",
    "def training():\n",
    "   \n",
    "    for i in tqdm(range(classes)):\n",
    "        path =r\"C:\\Users\\tahas\\OneDrive\\Desktop\\Pro\\hand written\\gtsrb-german-traffic-sign\\Train\"\n",
    "        imgs=os.path.join(path,str(i))\n",
    "        for img in os.listdir(imgs):\n",
    "            try:\n",
    "                img_array =cv2.imread(os.path.join(imgs,img), cv2.IMREAD_COLOR)\n",
    "                new_array = cv2.resize(img_array,(height,width))\n",
    "                training_data.append([new_array,i])\n",
    "            except Exception as e:\n",
    "                pass\n",
    "                        \n",
    "training()"
   ]
  },
  {
   "cell_type": "code",
   "execution_count": null,
   "metadata": {},
   "outputs": [],
   "source": [
    "training_data=np.array(training_data)"
   ]
  },
  {
   "cell_type": "code",
   "execution_count": null,
   "metadata": {},
   "outputs": [],
   "source": [
    "random.shuffle(training_data)"
   ]
  },
  {
   "cell_type": "code",
   "execution_count": null,
   "metadata": {},
   "outputs": [],
   "source": [
    "X =[]\n",
    "y=[]\n",
    "for features,label in training_data:\n",
    "    X.append(features)\n",
    "    y.append(label)"
   ]
  },
  {
   "cell_type": "code",
   "execution_count": null,
   "metadata": {},
   "outputs": [],
   "source": [
    "X = np.array(X)/255"
   ]
  },
  {
   "cell_type": "code",
   "execution_count": null,
   "metadata": {},
   "outputs": [],
   "source": [
    "y= np.array(y)"
   ]
  },
  {
   "cell_type": "code",
   "execution_count": null,
   "metadata": {},
   "outputs": [],
   "source": [
    "np.shape(X)"
   ]
  },
  {
   "cell_type": "code",
   "execution_count": null,
   "metadata": {},
   "outputs": [],
   "source": [
    "from tensorflow.keras.models import Sequential\n",
    "from tensorflow.keras.layers import Dense,Dropout,Activation, Flatten,Conv2D,MaxPooling2D\n",
    "\n",
    "NAME =\"Traffic_signal_Images_Recongnition\"\n",
    "model = Sequential()\n",
    "\n",
    "model.add(Conv2D(64,(3,3), input_shape = X.shape[1:]))\n",
    "model.add(Activation(\"relu\"))\n",
    "model.add(MaxPooling2D(pool_size=(2,2)))\n",
    "model.add(Dropout(0.2))\n",
    "\n",
    "model.add(Conv2D(64,(3,3)))\n",
    "model.add(Activation(\"relu\"))\n",
    "model.add(MaxPooling2D(pool_size=(2,2)))\n",
    "model.add(Dropout(0.2))\n",
    "\n",
    "model.add(Flatten())\n",
    "model.add(Dense(64))\n",
    "model.add(Activation(\"relu\"))\n",
    "model.add(Dropout(0.2))\n",
    "\n",
    "model.add(Dense(43))\n",
    "model.add(Activation(\"softmax\"))\n",
    "model.add(Dropout(0.2))\n",
    "\n",
    "model.compile(\n",
    "    optimizer = \"adam\",\n",
    "    loss = \"sparse_categorical_crossentropy\",\n",
    "    metrics = [\"accuracy\"])"
   ]
  },
  {
   "cell_type": "code",
   "execution_count": null,
   "metadata": {
    "scrolled": true
   },
   "outputs": [],
   "source": [
    "model.fit(X,y,batch_size= 32, epochs = 5, validation_split = 0.1)"
   ]
  },
  {
   "cell_type": "code",
   "execution_count": null,
   "metadata": {},
   "outputs": [],
   "source": [
    "test_data =r\"C:\\Users\\tahas\\OneDrive\\Desktop\\Pro\\hand written\\gtsrb-german-traffic-sign\\Test\" "
   ]
  },
  {
   "cell_type": "code",
   "execution_count": null,
   "metadata": {},
   "outputs": [],
   "source": [
    "def prepare(filename):\n",
    "    img_array = cv2.imread(filename, cv2.IMREAD_COLOR)\n",
    "    new_array = cv2.resize(img_array,(height,width))\n",
    "    return new_array.reshape(1,30,30, 3)"
   ]
  },
  {
   "cell_type": "code",
   "execution_count": null,
   "metadata": {},
   "outputs": [],
   "source": [
    "prediction = model.predict([prepare(r\"C:\\Users\\tahas\\OneDrive\\Desktop\\Pro\\hand written\\gtsrb-german-traffic-sign\\Test\\00011.png\")])"
   ]
  },
  {
   "cell_type": "code",
   "execution_count": null,
   "metadata": {},
   "outputs": [],
   "source": [
    "# Get the indices of maximum element in numpy array\n",
    "result = np.where(prediction == np.amax(prediction))\n",
    "print(result)\n",
    "prediction"
   ]
  },
  {
   "cell_type": "code",
   "execution_count": null,
   "metadata": {
    "scrolled": true
   },
   "outputs": [],
   "source": [
    "model.save(\"Traffic_signal_Images_Recongnition\")"
   ]
  },
  {
   "cell_type": "code",
   "execution_count": null,
   "metadata": {},
   "outputs": [],
   "source": [
    "test_data = []\n",
    "\n",
    "def create(paths):\n",
    "        #for i in os.listdir(paths):\n",
    "        try:\n",
    "            img_array =cv2.imread(paths, cv2.IMREAD_COLOR)\n",
    "            new_array = cv2.resize(img_array,(height,width))\n",
    "            return new_array.reshape(-1,(30,30),3)\n",
    "        except Exception as e:\n",
    "            pass\n",
    "\n",
    "model = tf.keras.models.load_model(\"Traffic_signal_Images_Recongnition\")\n",
    "            \n",
    "prediction = model.predict([create(paths =r\"C:\\Users\\tahas\\OneDrive\\Desktop\\Pro\\hand written\\gtsrb-german-traffic-sign\\Test\\00004.png\")])"
   ]
  },
  {
   "cell_type": "code",
   "execution_count": null,
   "metadata": {},
   "outputs": [],
   "source": []
  }
 ],
 "metadata": {
  "kernelspec": {
   "display_name": "gputest",
   "language": "python",
   "name": "gputest"
  },
  "language_info": {
   "codemirror_mode": {
    "name": "ipython",
    "version": 3
   },
   "file_extension": ".py",
   "mimetype": "text/x-python",
   "name": "python",
   "nbconvert_exporter": "python",
   "pygments_lexer": "ipython3",
   "version": "3.7.6"
  }
 },
 "nbformat": 4,
 "nbformat_minor": 4
}
